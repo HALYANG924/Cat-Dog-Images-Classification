{
 "cells": [
  {
   "cell_type": "code",
   "execution_count": 1,
   "id": "f9b821aa-7a25-45e6-b12d-886c47dae310",
   "metadata": {},
   "outputs": [],
   "source": [
    "import os\n",
    "import pandas as pd\n",
    "import numpy as np\n",
    "from sklearn.model_selection import train_test_split\n",
    "import tensorflow as tf\n",
    "from tensorflow.keras.models import Sequential\n",
    "from tensorflow.keras.layers import Conv2D, MaxPooling2D, Flatten, Dense, Dropout, Input\n",
    "from tensorflow.keras.preprocessing.image import ImageDataGenerator\n",
    "from tensorflow.keras.preprocessing import image\n",
    "from PIL import Image"
   ]
  },
  {
   "cell_type": "code",
   "execution_count": 2,
   "id": "694cc628-8bef-423f-816a-2a002ce997a5",
   "metadata": {},
   "outputs": [
    {
     "name": "stdout",
     "output_type": "stream",
     "text": [
      "Found 20001 images belonging to 2 classes.\n",
      "Found 4997 images belonging to 2 classes.\n"
     ]
    },
    {
     "name": "stderr",
     "output_type": "stream",
     "text": [
      "C:\\APP\\WorkPlace\\Anaconda\\Lib\\site-packages\\PIL\\TiffImagePlugin.py:870: UserWarning: Truncated File Read\n",
      "  warnings.warn(str(msg))\n"
     ]
    }
   ],
   "source": [
    "# 数据增强\n",
    "# 创建ImageDataGenerator实例\n",
    "train_datagen = ImageDataGenerator(\n",
    "    rescale=1./255,       # 将像素值缩放到0-1范围\n",
    "    shear_range=0.2,      # 随机错切变换\n",
    "    zoom_range=0.2,       # 随机缩放\n",
    "    horizontal_flip=True  # 随机水平翻转\n",
    ")\n",
    "\n",
    "validation_datagen = ImageDataGenerator(rescale=1./255)  # 验证集只进行缩放\n",
    "\n",
    "# 使用flow_from_directory方法从目录中加载数据\n",
    "train_generator = train_datagen.flow_from_directory(\n",
    "    'data/train',              # 训练数据目录\n",
    "    target_size=(128, 128),    # 调整图像大小\n",
    "    batch_size=32,             # 每个批次的图像数\n",
    "    class_mode='binary'        # 分类模式：二分类\n",
    ")\n",
    "\n",
    "validation_generator = validation_datagen.flow_from_directory(\n",
    "    'data/validation',         # 验证数据目录\n",
    "    target_size=(128, 128),    # 调整图像大小\n",
    "    batch_size=32,             # 每个批次的图像数\n",
    "    class_mode='binary'        # 分类模式：二分类\n",
    ")\n",
    "\n",
    "# 数据清洗\n",
    "for i in os.listdir('data/train/cat'):\n",
    "    try:\n",
    "        Image.open(os.path.join('data/train/cat', i))\n",
    "    except:\n",
    "        os.remove(os.path.join('data/train/cat', i))\n",
    "        print(i)\n",
    "\n",
    "for i in os.listdir('data/train/dog'):\n",
    "    try:\n",
    "        Image.open(os.path.join('data/train/dog', i))\n",
    "    except:\n",
    "        os.remove(os.path.join('data/train/dog', i))\n",
    "        print(i)\n",
    "for i in os.listdir('data/validation/cat'):\n",
    "    try:\n",
    "        Image.open(os.path.join('data/validation/cat', i))\n",
    "    except:\n",
    "        os.remove(os.path.join('data/validation/cat', i))\n",
    "        print(i)\n",
    "\n",
    "for i in os.listdir('data/validation/dog'):\n",
    "    try:\n",
    "        Image.open(os.path.join('data/validation/dog', i))\n",
    "    except:\n",
    "        os.remove(os.path.join('data/validation/dog', i))\n",
    "        print(i)\n"
   ]
  },
  {
   "cell_type": "code",
   "execution_count": 3,
   "id": "0790c9ee-96ee-463e-b1db-d8b918631e4c",
   "metadata": {},
   "outputs": [],
   "source": [
    "# 建立模型\n",
    "model = Sequential()\n",
    "\n",
    "# 输入层\n",
    "model.add(Input(shape=(128, 128, 3)))\n",
    "\n",
    "# 第一个卷积层\n",
    "model.add(Conv2D(32, (3, 3), activation='relu'))\n",
    "model.add(MaxPooling2D(pool_size=(2, 2)))\n",
    "\n",
    "# 第二个卷积层\n",
    "model.add(Conv2D(64, (3, 3), activation='relu'))\n",
    "model.add(MaxPooling2D(pool_size=(2, 2)))\n",
    "\n",
    "# 第三个卷积层\n",
    "model.add(Conv2D(128, (3, 3), activation='relu'))\n",
    "model.add(MaxPooling2D(pool_size=(2, 2)))\n",
    "\n",
    "# 全连接层\n",
    "model.add(Flatten())\n",
    "model.add(Dense(512, activation='relu'))\n",
    "model.add(Dropout(0.5))\n",
    "model.add(Dense(1, activation='sigmoid'))\n",
    "\n",
    "# 编译模型\n",
    "model.compile(optimizer='adam', loss='binary_crossentropy', metrics=['accuracy'])"
   ]
  },
  {
   "cell_type": "code",
   "execution_count": 4,
   "id": "b5f5189d-be7a-4519-861d-f631715ba97b",
   "metadata": {},
   "outputs": [
    {
     "name": "stdout",
     "output_type": "stream",
     "text": [
      "Epoch 1/5\n"
     ]
    },
    {
     "name": "stderr",
     "output_type": "stream",
     "text": [
      "C:\\APP\\WorkPlace\\Anaconda\\Lib\\site-packages\\keras\\src\\trainers\\data_adapters\\py_dataset_adapter.py:121: UserWarning: Your `PyDataset` class should call `super().__init__(**kwargs)` in its constructor. `**kwargs` can include `workers`, `use_multiprocessing`, `max_queue_size`. Do not pass these arguments to `fit()`, as they will be ignored.\n",
      "  self._warn_if_super_not_called()\n"
     ]
    },
    {
     "name": "stdout",
     "output_type": "stream",
     "text": [
      "\u001b[1m62/62\u001b[0m \u001b[32m━━━━━━━━━━━━━━━━━━━━\u001b[0m\u001b[37m\u001b[0m \u001b[1m20s\u001b[0m 291ms/step - accuracy: 0.5113 - loss: 0.7850 - val_accuracy: 0.5175 - val_loss: 0.6949\n",
      "Epoch 2/5\n",
      "\u001b[1m62/62\u001b[0m \u001b[32m━━━━━━━━━━━━━━━━━━━━\u001b[0m\u001b[37m\u001b[0m \u001b[1m17s\u001b[0m 275ms/step - accuracy: 0.5347 - loss: 0.6938 - val_accuracy: 0.5312 - val_loss: 0.6997\n",
      "Epoch 3/5\n",
      "\u001b[1m62/62\u001b[0m \u001b[32m━━━━━━━━━━━━━━━━━━━━\u001b[0m\u001b[37m\u001b[0m \u001b[1m17s\u001b[0m 271ms/step - accuracy: 0.5545 - loss: 0.6832 - val_accuracy: 0.6275 - val_loss: 0.6498\n",
      "Epoch 4/5\n",
      "\u001b[1m62/62\u001b[0m \u001b[32m━━━━━━━━━━━━━━━━━━━━\u001b[0m\u001b[37m\u001b[0m \u001b[1m17s\u001b[0m 268ms/step - accuracy: 0.6098 - loss: 0.6579 - val_accuracy: 0.6263 - val_loss: 0.6365\n",
      "Epoch 5/5\n",
      "\u001b[1m62/62\u001b[0m \u001b[32m━━━━━━━━━━━━━━━━━━━━\u001b[0m\u001b[37m\u001b[0m \u001b[1m16s\u001b[0m 256ms/step - accuracy: 0.6394 - loss: 0.6411 - val_accuracy: 0.6587 - val_loss: 0.6153\n"
     ]
    },
    {
     "data": {
      "text/plain": [
       "<keras.src.callbacks.history.History at 0x26e92ec3890>"
      ]
     },
     "execution_count": 4,
     "metadata": {},
     "output_type": "execute_result"
    }
   ],
   "source": [
    "#模型训练\n",
    "model.fit(\n",
    "    train_generator,\n",
    "    steps_per_epoch=2000 // 32,\n",
    "    epochs=5,\n",
    "    validation_data=validation_generator,\n",
    "    validation_steps=800 // 32\n",
    ")\n"
   ]
  },
  {
   "cell_type": "code",
   "execution_count": 5,
   "id": "dab86cb8-62f9-458c-aeae-787306b605b8",
   "metadata": {},
   "outputs": [
    {
     "name": "stdout",
     "output_type": "stream",
     "text": [
      "\u001b[1m157/157\u001b[0m \u001b[32m━━━━━━━━━━━━━━━━━━━━\u001b[0m\u001b[37m\u001b[0m \u001b[1m10s\u001b[0m 64ms/step - accuracy: 0.6782 - loss: 0.6109\n",
      "Validation Loss: 0.6077237129211426\n",
      "Validation Accuracy: 0.6772063374519348\n"
     ]
    }
   ],
   "source": [
    "#评估模型\n",
    "loss, accuracy = model.evaluate(validation_generator)\n",
    "print(f'Validation Loss: {loss}')\n",
    "print(f'Validation Accuracy: {accuracy}')\n",
    "\n",
    "#保存模型\n",
    "model.save('my_model.keras')"
   ]
  },
  {
   "cell_type": "code",
   "execution_count": 6,
   "id": "ba6081ed-ad59-474c-8379-7f27537c36a5",
   "metadata": {},
   "outputs": [
    {
     "name": "stdout",
     "output_type": "stream",
     "text": [
      "\u001b[1m1/1\u001b[0m \u001b[32m━━━━━━━━━━━━━━━━━━━━\u001b[0m\u001b[37m\u001b[0m \u001b[1m0s\u001b[0m 62ms/step\n",
      "This is a cat.\n"
     ]
    }
   ],
   "source": [
    "#进行模型预测\n",
    "img_path = \"data\\cat_dog\\cat.0.jpg\"\n",
    "img = image.load_img(img_path, target_size=(128, 128))\n",
    "img_array = image.img_to_array(img)\n",
    "img_array = np.expand_dims(img_array, axis=0) / 255.0\n",
    "\n",
    "prediction = model.predict(img_array)\n",
    "if prediction[0] > 0.5:\n",
    "    print('This is a dog.')\n",
    "else:\n",
    "    print('This is a cat.')"
   ]
  },
  {
   "cell_type": "code",
   "execution_count": null,
   "id": "c8cf732c-508a-4af2-9847-516cc4302d9e",
   "metadata": {},
   "outputs": [],
   "source": []
  },
  {
   "cell_type": "code",
   "execution_count": null,
   "id": "e8a18da0-c168-45c5-b8dc-061c4b007d05",
   "metadata": {},
   "outputs": [],
   "source": []
  }
 ],
 "metadata": {
  "kernelspec": {
   "display_name": "Python(notebook)",
   "language": "python",
   "name": "notebook"
  },
  "language_info": {
   "codemirror_mode": {
    "name": "ipython",
    "version": 3
   },
   "file_extension": ".py",
   "mimetype": "text/x-python",
   "name": "python",
   "nbconvert_exporter": "python",
   "pygments_lexer": "ipython3",
   "version": "3.11.7"
  }
 },
 "nbformat": 4,
 "nbformat_minor": 5
}
